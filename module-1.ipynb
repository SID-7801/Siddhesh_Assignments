{
 "cells": [
  {
   "cell_type": "code",
   "execution_count": 1,
   "id": "a115a56f",
   "metadata": {},
   "outputs": [],
   "source": [
    "# #What is Software?\n",
    "# Software is nothing but a collection of computer programs and\n",
    "# related documents that are intended to provide desired features,\n",
    "# functionalities and better performance."
   ]
  },
  {
   "cell_type": "code",
   "execution_count": 2,
   "id": "723aa422",
   "metadata": {},
   "outputs": [],
   "source": [
    "# What are the types of Applications?\n",
    "# 1.#Web Application\n",
    "# any website component that performs\n",
    "# some function for the user qualifies as a Web app.\n",
    "\n",
    "# A web application, also referred to as a web app,\n",
    "# is a computer program with functionality and interactive elements.\n",
    "# You use regular web technologies to build it but\n",
    "# it also stores data and manipulates it according to a user's needs.\n",
    "\n",
    "# Web apps are extremely customizable and can perform a wide range of tasks\n",
    "# and functionalities like creating, reading, updating,\n",
    "# and deleting data in the app. They are more complex and difficult to build,\n",
    "# so they require an experienced team of developers to create them.\n",
    "\n",
    "# Some popular examples of web applications include:\n",
    "# shopping carts, video and photo editing apps,\n",
    "# file conversion tools, file scanning apps, email programs, and so on.\n",
    "\n",
    "# 2.#Mobile  Application\n",
    "# An application software\n",
    "# Intended to run on mobile devices like tablets, smart phones. \n",
    "\n",
    "# 3.#Desktop Application\n",
    "# An application that runs stand-alone in a desktop or laptop computer.\n"
   ]
  },
  {
   "cell_type": "code",
   "execution_count": 3,
   "id": "7f950347",
   "metadata": {},
   "outputs": [],
   "source": [
    "# What is programing?\n",
    "# A programming language is a vocabulary and set of grammatical rules for instructing a computer or computing device to perform specific tasks."
   ]
  },
  {
   "cell_type": "code",
   "execution_count": null,
   "id": "c818f7f6",
   "metadata": {},
   "outputs": [],
   "source": [
    "# What is Python?\n",
    "# Python is an interpreted, object-oriented, high-level programming language with dynamic semantics.\n",
    "# main features of python:\n",
    "# 1. best programming language in the world\n",
    "#2. the Easiest programming language in the world\n",
    "3. case sensitive\n",
    "4. open source\n",
    "5. portable"
   ]
  },
  {
   "cell_type": "code",
   "execution_count": null,
   "id": "d6b55f91",
   "metadata": {},
   "outputs": [],
   "source": []
  }
 ],
 "metadata": {
  "kernelspec": {
   "display_name": "Python 3 (ipykernel)",
   "language": "python",
   "name": "python3"
  },
  "language_info": {
   "codemirror_mode": {
    "name": "ipython",
    "version": 3
   },
   "file_extension": ".py",
   "mimetype": "text/x-python",
   "name": "python",
   "nbconvert_exporter": "python",
   "pygments_lexer": "ipython3",
   "version": "3.9.12"
  }
 },
 "nbformat": 4,
 "nbformat_minor": 5
}

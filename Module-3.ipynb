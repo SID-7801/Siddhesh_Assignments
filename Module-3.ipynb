{
 "cells": [
  {
   "cell_type": "code",
   "execution_count": null,
   "id": "188fbbb4",
   "metadata": {},
   "outputs": [],
   "source": [
    "#  What is List? How will you reverse a list?\n",
    "# Python has a great built-in list type named \"list\". List literals are written within square brackets [ ]. \n",
    "# In Python, a built-in function called reverse() is used to reverse the list.\n",
    "# This simple and quick way to reverse a list in Python requires little memory. \n",
    "# Syntax: list_name. reverse() Here, list_name means you have to write the list's name, which has to be reversed."
   ]
  },
  {
   "cell_type": "code",
   "execution_count": null,
   "id": "e3048110",
   "metadata": {},
   "outputs": [],
   "source": [
    "# How will you remove last object from a list?\n",
    "# The method pop() can be used to remove and return the last value from the list or the given index value. \n",
    "# If the index is not given, then the last element is popped out and removed.14-Mar-2023\n"
   ]
  },
  {
   "cell_type": "code",
   "execution_count": null,
   "id": "5aa68609",
   "metadata": {},
   "outputs": [],
   "source": [
    "# Suppose list1 is [2, 33, 222, 14, and 25], what is list1 [-1]?\n",
    "list1=[2,33,222,14,25]\n",
    "list1[-1]\n",
    "    "
   ]
  },
  {
   "cell_type": "code",
   "execution_count": null,
   "id": "af9639a3",
   "metadata": {},
   "outputs": [],
   "source": [
    "# Differentiate between append () and extend () methods?\n",
    "# The append() method in the programming language Python adds an item to a list that already exists \n",
    "# whereas the extend() method adds each of the iterable elements which is supplied as a parameter to the end of the original list."
   ]
  },
  {
   "cell_type": "code",
   "execution_count": null,
   "id": "acf4b875",
   "metadata": {},
   "outputs": [],
   "source": [
    "# Write a Python function to get the largest number,smallest num and sum of all from a list.\n",
    "list2=[7,8,2,3,5]\n",
    "largest=0\n",
    "smallest=10000000\n",
    "sum1=0\n",
    "for i in list2:\n",
    "    if i > largest:\n",
    "        largest = i\n",
    "print(\"largest number = \" ,largest)\n",
    "\n",
    "for i in list2:\n",
    "    if i < smallest:\n",
    "        smallest = i\n",
    "print('smallest number = ' ,smallest)\n",
    "\n",
    "for i in list2:\n",
    "    sum1 += i\n",
    "print(sum1)    \n",
    "    "
   ]
  },
  {
   "cell_type": "code",
   "execution_count": null,
   "id": "6c0c5333",
   "metadata": {},
   "outputs": [],
   "source": [
    "# How will you compare two lists?\n"
   ]
  },
  {
   "cell_type": "code",
   "execution_count": null,
   "id": "ff32abcf",
   "metadata": {},
   "outputs": [],
   "source": [
    "# Write a Python program to count the number of strings where the string \n",
    "# length is 2 or more and the first and last character are same from a given \n",
    "# list of strings.\n",
    "\n",
    "a=input()\n",
    "b=len(a)\n",
    "if b>=2:"
   ]
  },
  {
   "cell_type": "code",
   "execution_count": 11,
   "id": "ea12a74a",
   "metadata": {},
   "outputs": [
    {
     "name": "stdout",
     "output_type": "stream",
     "text": [
      "['b', 'c', 'a', 'd']\n"
     ]
    }
   ],
   "source": [
    "# Write a Python program to remove duplicates from a list.\n",
    "\n",
    "list4=['a','b','c','a','d']\n",
    "a=list4.remove('a')\n",
    "print(list4)\n"
   ]
  },
  {
   "cell_type": "code",
   "execution_count": 15,
   "id": "85724fb1",
   "metadata": {},
   "outputs": [
    {
     "name": "stdout",
     "output_type": "stream",
     "text": [
      "The list is empty\n"
     ]
    }
   ],
   "source": [
    "# Write a Python program to check a list is empty or not.\n",
    "\n",
    "list3=[]\n",
    "a=len(list3)\n",
    "if a == 0:\n",
    "    print('The list is empty')\n",
    "else:\n",
    "    print('The list is not empty')"
   ]
  },
  {
   "cell_type": "code",
   "execution_count": 1,
   "id": "3c0e4280",
   "metadata": {},
   "outputs": [
    {
     "name": "stdout",
     "output_type": "stream",
     "text": [
      "false\n",
      "true\n",
      "false\n",
      "false\n",
      "true\n",
      "false\n"
     ]
    }
   ],
   "source": [
    "# Write a Python function that takes two lists and returns true if they have \n",
    "# at least one common member\n",
    "\n",
    "list5=[1,2,3,4,5,8]\n",
    "list6=[2,5,6,9,0,2]\n",
    "for i in list5:\n",
    "    if i in list6:\n",
    "        print('true')\n",
    "    else:\n",
    "        print('false')\n",
    "    "
   ]
  },
  {
   "cell_type": "code",
   "execution_count": 20,
   "id": "c9bb80db",
   "metadata": {},
   "outputs": [
    {
     "name": "stdout",
     "output_type": "stream",
     "text": [
      "[1, 4, 9, 16, 25]\n",
      "[676, 729, 784, 841, 900]\n"
     ]
    }
   ],
   "source": [
    "# Write a Python program to generate and print a list of first and last 5 \n",
    "# elements where the values are square of numbers between 1 and 30.\n",
    "l=[]\n",
    "for i in range(1,31):\n",
    "    l.append(i**2)\n",
    "print(l[:5])\n",
    "print(l[-5:])"
   ]
  },
  {
   "cell_type": "code",
   "execution_count": 25,
   "id": "132b7923",
   "metadata": {},
   "outputs": [
    {
     "name": "stdout",
     "output_type": "stream",
     "text": [
      "['s', 'i', 'd', 'h', 'e']\n"
     ]
    }
   ],
   "source": [
    "# Write a Python function that takes a list and returns a new list with unique \n",
    "# elements of the first list\n",
    "\n",
    "l=[]\n",
    "for i in 'siddhesh':\n",
    "    if i not in l:\n",
    "        l.append(i)\n",
    "print(l)    \n",
    "\n"
   ]
  },
  {
   "cell_type": "code",
   "execution_count": 26,
   "id": "4418e041",
   "metadata": {},
   "outputs": [],
   "source": [
    "# Write a Python program to convert a list of characters into a string.\n",
    "\n",
    "list7=['s','i']"
   ]
  },
  {
   "cell_type": "code",
   "execution_count": 29,
   "id": "b29a965d",
   "metadata": {},
   "outputs": [
    {
     "data": {
      "text/plain": [
       "'harshil'"
      ]
     },
     "execution_count": 29,
     "metadata": {},
     "output_type": "execute_result"
    }
   ],
   "source": [
    "# Write a Python program to select an item randomly from a list.\n",
    "\n",
    "import random\n",
    "list7=['siddhesh','karan','dhruv','harshil','kishan','raj']\n",
    "random.choice(list7)\n"
   ]
  },
  {
   "cell_type": "code",
   "execution_count": 37,
   "id": "05a05db8",
   "metadata": {},
   "outputs": [
    {
     "name": "stdout",
     "output_type": "stream",
     "text": [
      "the sorted list is  [1, 3, 4, 6, 7, 8]\n",
      "the second smallest number in a list is  3\n"
     ]
    }
   ],
   "source": [
    "# Write a Python program to find the second smallest number in a list\n",
    "\n",
    "l=[7,8,4,3,6,1]\n",
    "l.sort()\n",
    "print('the sorted list is ',l)\n",
    "print('the second smallest number in a list is ',l[1])"
   ]
  },
  {
   "cell_type": "code",
   "execution_count": 38,
   "id": "d019db5e",
   "metadata": {},
   "outputs": [
    {
     "name": "stdout",
     "output_type": "stream",
     "text": [
      "['s', 'i', 'd', 'h', 'e']\n"
     ]
    }
   ],
   "source": [
    "# Write a Python program to get unique values from a list\n",
    "\n",
    "l=[]\n",
    "for i in 'siddhesh':\n",
    "    if i not in l:\n",
    "        l.append(i)\n",
    "print(l)"
   ]
  },
  {
   "cell_type": "code",
   "execution_count": 2,
   "id": "7d2a176a",
   "metadata": {},
   "outputs": [
    {
     "data": {
      "text/plain": [
       "list"
      ]
     },
     "execution_count": 2,
     "metadata": {},
     "output_type": "execute_result"
    }
   ],
   "source": [
    "# Write a Python program to check whether a list contains a sub list\n",
    "lis1=[1,2,'sid',[4,5,6],('sidd')]\n",
    "type(lis1)\n",
    "#for i in lis1:\n",
    " #   if type(list) in i:\n",
    "  #      print('it contain sub list')\n",
    "    #else:\n",
    "     #   print('does not contain sub list')\n",
    "\n"
   ]
  },
  {
   "cell_type": "code",
   "execution_count": 40,
   "id": "4e32eb4d",
   "metadata": {},
   "outputs": [
    {
     "name": "stdout",
     "output_type": "stream",
     "text": [
      "dhruv\n"
     ]
    }
   ],
   "source": [
    "# Write a Python program to split a list into different variables.\n",
    "\n",
    "l2=['siddhesh','karan','dhruv','harshil']\n",
    "v1,v2,v3,v4=l2\n",
    "print(v3)"
   ]
  },
  {
   "cell_type": "code",
   "execution_count": 42,
   "id": "368ca2e4",
   "metadata": {},
   "outputs": [],
   "source": [
    "# What is tuple? Difference between list and tuple.\n",
    "\n",
    "#Tuples are used to store multiple items in a single variable.\n",
    "\n",
    "#Python Lists\n",
    "#Python Tuples\n",
    "\n",
    "\n",
    "#List are mutable\n",
    "\n",
    "#Tuples are immutable\n",
    "\n",
    "\n",
    "\n",
    "#Iterations are time-consuming\n",
    "\n",
    "#Iterations are comparatively Faster\n",
    "\n",
    "\n",
    "\n",
    "#Inserting and deleting items is easier with a list.\n",
    "\n",
    "#Accessing the elements is best accomplished with a tuple data type.\n",
    "\n",
    "\n",
    "\n",
    "#Lists consume more memory\n",
    "\n",
    "#Tuple consumes less than the list\n"
   ]
  },
  {
   "cell_type": "code",
   "execution_count": 43,
   "id": "07513816",
   "metadata": {},
   "outputs": [
    {
     "name": "stdout",
     "output_type": "stream",
     "text": [
      "('siddhesh', [1, 2, 3, 4], {1, 2, 3, 4, 5}, True, 2.2, 3.5)\n"
     ]
    }
   ],
   "source": [
    "# Write a Python program to create a tuple with different data types.\n",
    "\n",
    "tup=('siddhesh',[1,2,3,4],{1,2,3,4,5},True,2.2,3.5)\n",
    "print(tup)"
   ]
  },
  {
   "cell_type": "code",
   "execution_count": 44,
   "id": "458c8e62",
   "metadata": {},
   "outputs": [
    {
     "name": "stdout",
     "output_type": "stream",
     "text": [
      "(1, 2, 3, 4, 5, 6)\n"
     ]
    }
   ],
   "source": [
    "# Write a Python program to create a tuple with numbers\n",
    "tup2=(1,2,3,4,5,6)\n",
    "print(tup2)"
   ]
  },
  {
   "cell_type": "code",
   "execution_count": 53,
   "id": "90829660",
   "metadata": {},
   "outputs": [
    {
     "data": {
      "text/plain": [
       "'12345'"
      ]
     },
     "execution_count": 53,
     "metadata": {},
     "output_type": "execute_result"
    }
   ],
   "source": [
    "# Write a Python program to convert a tuple to a string.\n",
    "\n",
    "tup3=('1','2','3','4','5')\n",
    "''.join(tup3)"
   ]
  },
  {
   "cell_type": "code",
   "execution_count": 7,
   "id": "6806a475",
   "metadata": {},
   "outputs": [
    {
     "data": {
      "text/plain": [
       "0"
      ]
     },
     "execution_count": 7,
     "metadata": {},
     "output_type": "execute_result"
    }
   ],
   "source": [
    "# Write a Python program to check whether an element exists within a tuple\n",
    "\n",
    "tup2=(324,2,90,78,\"lion\")\n",
    "tup2.count('tiger')"
   ]
  },
  {
   "cell_type": "code",
   "execution_count": 8,
   "id": "d219b68d",
   "metadata": {},
   "outputs": [
    {
     "data": {
      "text/plain": [
       "6"
      ]
     },
     "execution_count": 8,
     "metadata": {},
     "output_type": "execute_result"
    }
   ],
   "source": [
    "# Write a Python program to find the length of a tuple.\n",
    "\n",
    "tup3=('tyui',243,5,7,8,77)\n",
    "len(tup3)"
   ]
  },
  {
   "cell_type": "code",
   "execution_count": 12,
   "id": "c5673622",
   "metadata": {},
   "outputs": [
    {
     "data": {
      "text/plain": [
       "('tyui', 243, 5, 7, 8, 77)"
      ]
     },
     "execution_count": 12,
     "metadata": {},
     "output_type": "execute_result"
    }
   ],
   "source": [
    "# Write a Python program to convert a list to a tuple.\n",
    "\n",
    "tup4=['tyui',243,5,7,8,77]\n",
    "tuple(tup4)"
   ]
  },
  {
   "cell_type": "code",
   "execution_count": 6,
   "id": "e8eab845",
   "metadata": {},
   "outputs": [
    {
     "name": "stdout",
     "output_type": "stream",
     "text": [
      "[77, 8, 7, 5, 243, 'tyui']\n"
     ]
    }
   ],
   "source": [
    "# Write a Python program to reverse a tuple.\n",
    "\n",
    "tup5=('tyui',243,5,7,8,77)\n",
    "a=list(tup5)\n",
    "a.reverse()\n",
    "print(a)\n"
   ]
  },
  {
   "cell_type": "code",
   "execution_count": 3,
   "id": "c38902b2",
   "metadata": {},
   "outputs": [
    {
     "name": "stdout",
     "output_type": "stream",
     "text": [
      "[3, True, 4, 5.4, (34, 56, 56, 100), 5, 'lion', (67, 100), (4, 5, 6, 100)]\n"
     ]
    }
   ],
   "source": [
    "# Write a Python program to replace last value of tuples in a list\n",
    "\n",
    "l1 = [3,True,4,5.4,(34,56,56,5),5,'lion',(67,7), (4,5,6,67)]\n",
    "for i in l1:\n",
    "    if isinstance(i, tuple):\n",
    "        new = list(i)\n",
    "        new[-1] = 100\n",
    "        l1[l1.index(i)] = tuple(new)\n",
    "        \n",
    "print(l1)       \n",
    "        "
   ]
  },
  {
   "cell_type": "code",
   "execution_count": 5,
   "id": "7ebe30ee",
   "metadata": {},
   "outputs": [
    {
     "name": "stdout",
     "output_type": "stream",
     "text": [
      "[2, 4, 2, 4]\n"
     ]
    }
   ],
   "source": [
    "#  Write a Python program to find the repeated items of a tuple.\n",
    "\n",
    "tup8=(1,2,3,4,2,5,4,6)\n",
    "res=[]\n",
    "for i in tup8:\n",
    "    if tup8.count(i) > 1:\n",
    "        res.append(i)\n",
    "print(res)    "
   ]
  },
  {
   "cell_type": "code",
   "execution_count": 14,
   "id": "24225abd",
   "metadata": {},
   "outputs": [
    {
     "ename": "IndexError",
     "evalue": "pop index out of range",
     "output_type": "error",
     "traceback": [
      "\u001b[1;31m---------------------------------------------------------------------------\u001b[0m",
      "\u001b[1;31mIndexError\u001b[0m                                Traceback (most recent call last)",
      "Input \u001b[1;32mIn [14]\u001b[0m, in \u001b[0;36m<cell line: 4>\u001b[1;34m()\u001b[0m\n\u001b[0;32m      3\u001b[0m tup9\u001b[38;5;241m=\u001b[39m[\u001b[38;5;241m1\u001b[39m,\u001b[38;5;241m2\u001b[39m,()]\n\u001b[0;32m      4\u001b[0m \u001b[38;5;28;01mfor\u001b[39;00m i \u001b[38;5;129;01min\u001b[39;00m tup9:\n\u001b[1;32m----> 5\u001b[0m     \u001b[43mtup9\u001b[49m\u001b[38;5;241;43m.\u001b[39;49m\u001b[43mpop\u001b[49m\u001b[43m(\u001b[49m\u001b[38;5;241;43m2\u001b[39;49m\u001b[43m)\u001b[49m\n\u001b[0;32m      6\u001b[0m \u001b[38;5;28mprint\u001b[39m(tup9)\n",
      "\u001b[1;31mIndexError\u001b[0m: pop index out of range"
     ]
    }
   ],
   "source": [
    "# Write a Python program to remove an empty tuple(s) from a list of tuples.\n",
    "\n",
    "tup9=[1,2,()]\n",
    "for i in tup9:\n",
    "print(tup9)    "
   ]
  },
  {
   "cell_type": "code",
   "execution_count": 16,
   "id": "d35f7b2d",
   "metadata": {},
   "outputs": [],
   "source": [
    "# Write a Python program to convert a list of tuples into a dictionary\n",
    "\n"
   ]
  },
  {
   "cell_type": "code",
   "execution_count": 21,
   "id": "c0c79165",
   "metadata": {},
   "outputs": [
    {
     "name": "stdout",
     "output_type": "stream",
     "text": [
      "{'w': 'e', 'k': 'e'}\n"
     ]
    }
   ],
   "source": [
    "# How will you create a dictionary using tuples in python\n",
    "\n",
    "dict2={}\n",
    "dict2.update(('we','ke'))\n",
    "print(dict2)"
   ]
  },
  {
   "cell_type": "code",
   "execution_count": 27,
   "id": "7a1b7360",
   "metadata": {},
   "outputs": [
    {
     "data": {
      "text/plain": [
       "dict_values([66, 88, 78])"
      ]
     },
     "execution_count": 27,
     "metadata": {},
     "output_type": "execute_result"
    }
   ],
   "source": [
    "# Write a Python script to sort (ascending and descending) a dictionary by value.\n",
    "\n",
    "dict3={'a':66,'g':88,'s':78}\n",
    "li7=dict3.values()\n",
    "li7.sort(return=True)\n",
    "print\n"
   ]
  },
  {
   "cell_type": "code",
   "execution_count": 5,
   "id": "10685d47",
   "metadata": {},
   "outputs": [
    {
     "name": "stdout",
     "output_type": "stream",
     "text": [
      "{'a': 2, 'b': 3, 'c': 4, 'x': 5, 'y': 6, 'z': 7}\n"
     ]
    }
   ],
   "source": [
    "# Write a Python script to concatenate following dictionaries to create a new one\n",
    "\n",
    "dict1={'a':2,'b':3,'c':4}\n",
    "dict2={'x':5,'y':6,'z':7}\n",
    "dict3={}\n",
    "for i in [dict1,dict2]:\n",
    "    dict3.update(i)\n",
    "print(dict3)    "
   ]
  },
  {
   "cell_type": "code",
   "execution_count": 10,
   "id": "9e204a41",
   "metadata": {},
   "outputs": [
    {
     "name": "stdout",
     "output_type": "stream",
     "text": [
      "the given key is already exists\n"
     ]
    }
   ],
   "source": [
    "# Write a Python script to check if a given key already exists in a dictionary.\n",
    "\n",
    "dict4={'a':1,'b':2,'c':3}\n",
    "key='c'\n",
    "a=dict4.keys()\n",
    "if key in a:\n",
    "    print('the given key is already exists')\n",
    "else:\n",
    "    print('the given key does not exists')"
   ]
  },
  {
   "cell_type": "code",
   "execution_count": 12,
   "id": "f5f2f462",
   "metadata": {},
   "outputs": [
    {
     "name": "stdout",
     "output_type": "stream",
     "text": [
      "Novel Pride and Prejudice\n",
      "year 1813\n",
      "author Jane Austen\n",
      "character Elizabeth Bennet\n"
     ]
    }
   ],
   "source": [
    "# How Do You Traverse Through A Dictionary Object In Python?\n",
    "\n",
    "#Using dict.items() Method\n",
    "#Python's dict.items() method allows you to loop through the dictionary. Each repetition will provide you with both the key and value of each item.\n",
    "\n",
    "dicti = { \n",
    "   'Novel': 'Pride and Prejudice', \n",
    "   'year': '1813', \n",
    "   'author': 'Jane Austen', \n",
    "   'character': 'Elizabeth Bennet' \n",
    "}\n",
    "\n",
    "for keys, values in dicti.items(): \n",
    "   print(keys ,values)"
   ]
  },
  {
   "cell_type": "code",
   "execution_count": 14,
   "id": "e600c38f",
   "metadata": {},
   "outputs": [
    {
     "name": "stdout",
     "output_type": "stream",
     "text": [
      "dict_keys(['a', 'b', 'c'])\n"
     ]
    }
   ],
   "source": [
    "# How Do You Check The Presence Of A Key In A Dictionary?\n",
    "\n",
    "dict4={'a':1,'b':2,'c':3}\n",
    "a=dict4.keys()\n",
    "print(a)"
   ]
  },
  {
   "cell_type": "code",
   "execution_count": 15,
   "id": "995a6c47",
   "metadata": {},
   "outputs": [
    {
     "name": "stdout",
     "output_type": "stream",
     "text": [
      "{1: None, 2: None, 3: None, 4: None, 5: None, 6: None, 7: None, 8: None, 9: None, 10: None, 11: None, 12: None, 13: None, 14: None, 15: None}\n"
     ]
    }
   ],
   "source": [
    "# Write a Python script to print a dictionary where the keys are numbers between 1 and 15.\n",
    "\n",
    "my_dict = {}\n",
    "for i in range(1, 16):\n",
    "    my_dict[i] = None\n",
    "\n",
    "print(my_dict)"
   ]
  },
  {
   "cell_type": "code",
   "execution_count": 18,
   "id": "7a59aaed",
   "metadata": {},
   "outputs": [
    {
     "ename": "TypeError",
     "evalue": "'in <string>' requires string as left operand, not tuple",
     "output_type": "error",
     "traceback": [
      "\u001b[1;31m---------------------------------------------------------------------------\u001b[0m",
      "\u001b[1;31mTypeError\u001b[0m                                 Traceback (most recent call last)",
      "Input \u001b[1;32mIn [18]\u001b[0m, in \u001b[0;36m<cell line: 6>\u001b[1;34m()\u001b[0m\n\u001b[0;32m      5\u001b[0m a\u001b[38;5;241m=\u001b[39mdict4\u001b[38;5;241m.\u001b[39mkeys()\n\u001b[0;32m      6\u001b[0m \u001b[38;5;28;01mfor\u001b[39;00m i \u001b[38;5;129;01min\u001b[39;00m key:\n\u001b[1;32m----> 7\u001b[0m     \u001b[38;5;28;01mif\u001b[39;00m \u001b[43mkey\u001b[49m\u001b[43m \u001b[49m\u001b[38;5;129;43;01min\u001b[39;49;00m\u001b[43m \u001b[49m\u001b[43mi\u001b[49m:\n\u001b[0;32m      8\u001b[0m         \u001b[38;5;28mprint\u001b[39m(\u001b[38;5;124m'\u001b[39m\u001b[38;5;124mthe multiple key is already exists\u001b[39m\u001b[38;5;124m'\u001b[39m)         \n\u001b[0;32m      9\u001b[0m     \u001b[38;5;28;01melse\u001b[39;00m:\n",
      "\u001b[1;31mTypeError\u001b[0m: 'in <string>' requires string as left operand, not tuple"
     ]
    }
   ],
   "source": [
    "# Write a Python program to check multiple keys exists in a dictionary\n",
    "\n",
    "dict4={'a':1,'b':2,'c':3}\n",
    "a=dict4.keys()\n",
    "for i in key:\n",
    "    if key in i:\n",
    "        print('the multiple key is already exists')         \n",
    "    else:\n",
    "         print('the multiple key does not exists')\n",
    "    \n"
   ]
  },
  {
   "cell_type": "code",
   "execution_count": 19,
   "id": "b3144c63",
   "metadata": {},
   "outputs": [
    {
     "name": "stdout",
     "output_type": "stream",
     "text": [
      "{'a': 2, 'b': 3, 'c': 4, 'x': 5, 'y': 6, 'z': 7}\n"
     ]
    }
   ],
   "source": [
    "# Write a Python script to merge two Python dictionaries\n",
    "\n",
    "dict1={'a':2,'b':3,'c':4}\n",
    "dict2={'x':5,'y':6,'z':7}\n",
    "dict3=dict1.copy()\n",
    "dict3.update(dict2)\n",
    "print(dict3)"
   ]
  },
  {
   "cell_type": "code",
   "execution_count": 20,
   "id": "56759d62",
   "metadata": {},
   "outputs": [
    {
     "data": {
      "text/plain": [
       "{3: 45, 34: 67, 5: 78, 6: 89}"
      ]
     },
     "execution_count": 20,
     "metadata": {},
     "output_type": "execute_result"
    }
   ],
   "source": [
    "# Write a Python program to map two lists into a dictionary\n",
    "\n",
    "l1 = [3,34,5,6]\n",
    "l2 = [45,67,78,89]\n",
    "dict(list(zip(l1, l2)))"
   ]
  },
  {
   "cell_type": "code",
   "execution_count": 23,
   "id": "f06fa26b",
   "metadata": {},
   "outputs": [
    {
     "name": "stdout",
     "output_type": "stream",
     "text": [
      "[100, 200, 300, 300, 200, 400]\n"
     ]
    }
   ],
   "source": [
    "# Write a Python program to combine two dictionary adding values for \n",
    "# common keys.\n",
    "d1 = {'a': 100, 'b': 200, 'c':300}\n",
    "d2 = {'a': 300, 'b': 200, 'd':400}\n",
    "# Sample output: Counter ({'a': 400, 'b': 400,’d’: 400, 'c': 300}).\n",
    "\n",
    "a=list(d1.values())\n",
    "b=list(d2.values())\n",
    "c=a+b\n",
    "for i in "
   ]
  },
  {
   "cell_type": "code",
   "execution_count": 2,
   "id": "68782918",
   "metadata": {},
   "outputs": [],
   "source": [
    "#ist1 = list(map(lambda y: list(y.values()), Sample_data))\n",
    "#dict1 = {}\n",
    "#for i in list1: #i = ['item1', 750]\n",
    " #   if i[0] in dict1: # i[0] = 'item1'\n",
    "  #      dict1[i[0]] += i[-1] #dict1['item1'] += 750\n",
    "   # else:\n",
    "    #    dict1[i[0]] = i[-1]\n",
    "#print(dict1)"
   ]
  },
  {
   "cell_type": "code",
   "execution_count": 3,
   "id": "7363c574",
   "metadata": {},
   "outputs": [],
   "source": [
    "# Why Do You Use the Zip () Method in Python?\n",
    "# Python's zip() function creates an iterator that will aggregate elements from two or more iterables."
   ]
  },
  {
   "cell_type": "code",
   "execution_count": 5,
   "id": "bc0f8089",
   "metadata": {},
   "outputs": [
    {
     "name": "stdout",
     "output_type": "stream",
     "text": [
      "acadbcbd\n"
     ]
    }
   ],
   "source": [
    "# Write a Python program to create and display all combinations of letters,\n",
    "#selecting each letter from a different key in a dictionary.\n",
    "# Sample data: {'1': ['a','b'], '2': ['c','d']}\n",
    "# Expected Output:\n",
    "# ac ad bc bd\n",
    "\n",
    "d1 = {\"1\":['a', 'b'], \"2\":['c','d']}\n",
    "list1 = list(d1.values())\n",
    "res = ''\n",
    "for i in list1[0]:\n",
    "    for j in list1[1]:\n",
    "        res += (i+j)\n",
    "print(res)        "
   ]
  },
  {
   "cell_type": "code",
   "execution_count": 6,
   "id": "76ac839e",
   "metadata": {},
   "outputs": [
    {
     "name": "stdout",
     "output_type": "stream",
     "text": [
      "The highest 3 values in the dictionary are: [30, 20, 15]\n"
     ]
    }
   ],
   "source": [
    "# Write a Python program to find the highest 3 values in a dictionary\n",
    "\n",
    "def find_highest_values(dictionary):\n",
    "    \n",
    "    sorted_dict = sorted(dictionary.items(), key=lambda x: x[1], reverse=True)\n",
    "\n",
    "    \n",
    "    highest_values = [value for _, value in sorted_dict[:3]]\n",
    "\n",
    "    return highest_values\n",
    "\n",
    "\n",
    "\n",
    "my_dict = {'a': 10, 'b': 5, 'c': 20, 'd': 15, 'e': 30}\n",
    "highest_values = find_highest_values(my_dict)\n",
    "print(\"The highest 3 values in the dictionary are:\", highest_values)\n"
   ]
  },
  {
   "cell_type": "code",
   "execution_count": 7,
   "id": "32f50cb2",
   "metadata": {},
   "outputs": [
    {
     "name": "stdout",
     "output_type": "stream",
     "text": [
      "{'item1': 1150, 'item2': 300}\n"
     ]
    }
   ],
   "source": [
    "# Write a Python program to combine values in python list of dictionaries. \n",
    "# Sample data: [{'item': 'item1', 'amount': 400}, {'item': 'item2', 'amount': \n",
    "#300},\n",
    "# {'item': 'item1', 'amount': 750}]\n",
    "# Expected Output: Counter ({'item1': 1150, 'item2': 300}\n",
    "\n",
    "Sample_data= [{'item': 'item1', 'amount': 400}, {'item': 'item2', 'amount':\n",
    "300}, {'item': 'item1', 'amount': 750}]\n",
    "\n",
    "list1 = list(map(lambda y: list(y.values()), Sample_data))\n",
    "dict1 = {}\n",
    "for i in list1: #i = ['item1', 750]\n",
    "    if i[0] in dict1: # i[0] = 'item1'\n",
    "        dict1[i[0]] += i[-1] #dict1['item1'] += 750\n",
    "    else:\n",
    "        dict1[i[0]] = i[-1]\n",
    "print(dict1)"
   ]
  },
  {
   "cell_type": "code",
   "execution_count": 8,
   "id": "def5b056",
   "metadata": {},
   "outputs": [
    {
     "name": "stdout",
     "output_type": "stream",
     "text": [
      "The factorial of 5 is: 120\n"
     ]
    }
   ],
   "source": [
    "# Write a Python function to calculate the factorial of a number \n",
    "\n",
    "def factorial(n):\n",
    "    if n < 0:\n",
    "        raise ValueError(\"Factorial is undefined for negative numbers.\")\n",
    "    elif n == 0 or n == 1:\n",
    "        return 1\n",
    "    else:\n",
    "        result = 1\n",
    "        for i in range(2, n + 1):\n",
    "            result *= i\n",
    "        return result\n",
    "\n",
    "\n",
    "#\n",
    "number = 5\n",
    "fact = factorial(number)\n",
    "print(\"The factorial of\", number, \"is:\", fact)\n"
   ]
  },
  {
   "cell_type": "code",
   "execution_count": 11,
   "id": "21f10088",
   "metadata": {},
   "outputs": [],
   "source": [
    "# Write a Python function to check whether a number is in a given range\n",
    "\n",
    "for i in range(1,101,1):\n",
    "    break\n",
    "    if i>=1 and i<=100:\n",
    "        print('in range')\n",
    "    else:\n",
    "        print('not in range')"
   ]
  },
  {
   "cell_type": "code",
   "execution_count": 14,
   "id": "a6507934",
   "metadata": {},
   "outputs": [
    {
     "name": "stdout",
     "output_type": "stream",
     "text": [
      "Enter a number: 2\n",
      "perfect number\n"
     ]
    }
   ],
   "source": [
    "# Write a Python function to check whether a number is perfect or not.\n",
    "\n",
    "a= int(input('Enter a number: '))\n",
    "if type(a) == int:\n",
    "    print('perfect number')\n",
    "else:\n",
    "    print('not perfect number')"
   ]
  },
  {
   "cell_type": "code",
   "execution_count": null,
   "id": "1db0f8a3",
   "metadata": {},
   "outputs": [],
   "source": [
    "# Write a Python function that checks whether a passed string is palindrome or not\n",
    "\n",
    "string=input('enter a word')\n",
    "if string == string[::-1]:\n",
    "    print('palindrome')\n",
    "else:\n",
    "    print('not palindrome')"
   ]
  },
  {
   "cell_type": "code",
   "execution_count": null,
   "id": "7fc501cf",
   "metadata": {},
   "outputs": [],
   "source": [
    "# What is lambda function in python? What we call a function which is incomplete version of a function?\n",
    "\n",
    "# In Python, a lambda function is a small anonymous function defined using the lambda keyword. It allows you to create a function without a formal def statement. Lambda functions are often used when you need a simple function for a short period of time and don't want to define a full-fledged named function."
   ]
  },
  {
   "cell_type": "code",
   "execution_count": null,
   "id": "9c77dc39",
   "metadata": {},
   "outputs": [],
   "source": [
    "# How Many Basic Types Of Functions Are Available In Python?\n",
    "\n",
    "# user defined\n",
    "# lambda\n",
    "# built in "
   ]
  },
  {
   "cell_type": "code",
   "execution_count": null,
   "id": "1b61f3fc",
   "metadata": {},
   "outputs": [],
   "source": [
    "# How can you pick a random item from a list or tuple?\n",
    "#To pick a random item from a list or tuple in Python, you can use the random.choice() function from the random module.\n",
    "\n",
    "import random\n",
    "\n",
    "my_list = [1, 2, 3, 4, 5]\n",
    "random_item = random.choice(my_list)\n",
    "print(random_item)\n"
   ]
  },
  {
   "cell_type": "code",
   "execution_count": null,
   "id": "0ae680a5",
   "metadata": {},
   "outputs": [],
   "source": [
    "# How can you pick a random item from a range?\n",
    "import random\n",
    "\n",
    "my_range = range(1, 10)  \n",
    "random_item = random.choice(my_range)\n",
    "print(random_item)\n"
   ]
  },
  {
   "cell_type": "code",
   "execution_count": null,
   "id": "1bc9bb11",
   "metadata": {},
   "outputs": [],
   "source": [
    "# How can you get a random number in python?\n",
    "import random\n",
    "\n",
    "random_number = random.randint(1, 10)  \n",
    "print(random_number)\n"
   ]
  },
  {
   "cell_type": "code",
   "execution_count": null,
   "id": "b4f152b8",
   "metadata": {},
   "outputs": [],
   "source": [
    "# How will you set the starting value in generating random numbers?\n",
    "import random\n",
    "random_number_2 = random.randint(1, 10)\n",
    "print(random_number_2)\n"
   ]
  },
  {
   "cell_type": "code",
   "execution_count": null,
   "id": "b28bdafa",
   "metadata": {},
   "outputs": [],
   "source": [
    "# How will you randomizes the items of a list in place?\n",
    "import random\n",
    "\n",
    "my_list = [1, 2, 3, 4, 5]\n",
    "random.shuffle(my_list)\n",
    "\n",
    "print(my_list)\n"
   ]
  },
  {
   "cell_type": "code",
   "execution_count": null,
   "id": "1b298b53",
   "metadata": {},
   "outputs": [],
   "source": [
    "# Write a Python program to read a random line from a file.\n"
   ]
  },
  {
   "cell_type": "code",
   "execution_count": null,
   "id": "5671affd",
   "metadata": {},
   "outputs": [],
   "source": [
    "# Write a Python program to convert degree to radian\n",
    "pi=22/7\n",
    "degree = float(input(\"Input degrees: \"))\n",
    "radian = degree*(pi/180)\n",
    "print(radian)"
   ]
  },
  {
   "cell_type": "code",
   "execution_count": null,
   "id": "d68ac829",
   "metadata": {},
   "outputs": [],
   "source": [
    "# Write a Python program to calculate the area of a trapezoid\n",
    "height = float(input(\"Height of trapezoid: \"))\n",
    "base1 = float(input('Base one value: '))\n",
    "base2 = float(input('Base two value: '))\n",
    "area = ((base1 + base2) / 2) * height\n",
    "print(\"Area is:\", area)"
   ]
  },
  {
   "cell_type": "code",
   "execution_count": null,
   "id": "3daf32d1",
   "metadata": {},
   "outputs": [],
   "source": [
    "#Write a Python program to calculate the area of a parallelogram\n",
    " \n",
    "base = float(input('Length of base: '))\n",
    "height = float(input('Measurement of height: '))\n",
    "area = base * height\n",
    "print(\"Area is: \", area)"
   ]
  },
  {
   "cell_type": "code",
   "execution_count": null,
   "id": "272bf643",
   "metadata": {},
   "outputs": [],
   "source": [
    "# Write a Python program to calculate surface volume and area of a cylinder\n",
    "pi=22/7\n",
    "height = float(input('Height of cylinder: '))\n",
    "radian = float(input('Radius of cylinder: '))\n",
    "volume = pi * radian * radian * height\n",
    "surfacearea = ((2*pi*radian) * height) + ((pi*radian**2)*2)\n",
    "print(\"Volume is: \", volume)\n",
    "print(\"Surface Area is: \", surfacearea)"
   ]
  },
  {
   "cell_type": "code",
   "execution_count": null,
   "id": "b973058a",
   "metadata": {},
   "outputs": [],
   "source": [
    "# Write a Python program to returns sum of all divisors of a number\n",
    "\n",
    "number=int(input('enter number'))\n",
    "    divisors = [1]\n",
    "    for i in range(2, number):\n",
    "        if (number % i)==0:\n",
    "            divisors.append(i)\n",
    "    return sum(divisors)\n"
   ]
  },
  {
   "cell_type": "code",
   "execution_count": null,
   "id": "fdd6063c",
   "metadata": {},
   "outputs": [],
   "source": [
    "# Write a Python program to find the maximum and minimum numbers from the specified decimal numbers\n",
    "\n"
   ]
  },
  {
   "cell_type": "code",
   "execution_count": null,
   "id": "d97d3518",
   "metadata": {},
   "outputs": [],
   "source": []
  }
 ],
 "metadata": {
  "kernelspec": {
   "display_name": "Python 3 (ipykernel)",
   "language": "python",
   "name": "python3"
  },
  "language_info": {
   "codemirror_mode": {
    "name": "ipython",
    "version": 3
   },
   "file_extension": ".py",
   "mimetype": "text/x-python",
   "name": "python",
   "nbconvert_exporter": "python",
   "pygments_lexer": "ipython3",
   "version": "3.9.12"
  }
 },
 "nbformat": 4,
 "nbformat_minor": 5
}

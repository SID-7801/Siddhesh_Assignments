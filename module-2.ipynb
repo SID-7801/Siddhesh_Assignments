{
 "cells": [
  {
   "cell_type": "code",
   "execution_count": null,
   "id": "95a37621",
   "metadata": {},
   "outputs": [],
   "source": [
    "# que 1. define a variable with your name and put your age as value\n",
    "\n",
    "siddhesh=22"
   ]
  },
  {
   "cell_type": "code",
   "execution_count": null,
   "id": "d2960175",
   "metadata": {},
   "outputs": [],
   "source": [
    "#que 2. find the datatype of variable you just created\n",
    "\n",
    "type(siddhesh)"
   ]
  },
  {
   "cell_type": "code",
   "execution_count": null,
   "id": "2c3ba80a",
   "metadata": {},
   "outputs": [],
   "source": [
    "#que 3. print 4 variables named a,b,c,d. and their datatypes\n",
    "\n",
    "a=5\n",
    "b=6\n",
    "c=7\n",
    "d=8\n",
    "type(a)\n",
    "type(b)\n",
    "type(c)\n",
    "type(d)"
   ]
  },
  {
   "cell_type": "code",
   "execution_count": null,
   "id": "a2359824",
   "metadata": {},
   "outputs": [],
   "source": [
    "#que 4. store same values in these 4 variables and print them\n",
    "\n",
    "a=5\n",
    "b=6\n",
    "c=7\n",
    "d=8\n",
    "print(a,b,c,d)\n"
   ]
  },
  {
   "cell_type": "code",
   "execution_count": null,
   "id": "f0b48d7a",
   "metadata": {},
   "outputs": [],
   "source": [
    "#que. 5 take two variables and swap their values with the help of temp variable.\n",
    "\n",
    "abc=3\n",
    "ABC=4\n"
   ]
  },
  {
   "cell_type": "code",
   "execution_count": null,
   "id": "81045952",
   "metadata": {},
   "outputs": [],
   "source": [
    "#que. 6 take two variables and swap their values without temp variable\n",
    "\n",
    "a=3\n",
    "b=4\n",
    "a,b=b,a\n",
    "print(a)\n",
    "print(b)"
   ]
  },
  {
   "cell_type": "code",
   "execution_count": null,
   "id": "42c6be17",
   "metadata": {},
   "outputs": [],
   "source": [
    "#que. 7 take two integers in 2 variables and store it's multiplication in third variable\n",
    "\n",
    "a=10\n",
    "b=7\n",
    "c=a*b\n",
    "print(c)"
   ]
  },
  {
   "cell_type": "code",
   "execution_count": null,
   "id": "f010c7b3",
   "metadata": {},
   "outputs": [],
   "source": [
    "#que. 8 take 2 integer values in 2 different variables and swap their values without using any other variable\n",
    "\n",
    "a=3\n",
    "b=4\n",
    "a,b=b,a\n",
    "print(a)\n",
    "print(b)"
   ]
  },
  {
   "cell_type": "code",
   "execution_count": null,
   "id": "e5afb76c",
   "metadata": {},
   "outputs": [],
   "source": [
    "#que. 9 take 3 variables and take 3 different type of values. and print datatype of all of them\n",
    "\n",
    "a=77\n",
    "type(a)\n",
    "b=25.7\n",
    "type(b)\n",
    "c='sid'\n",
    "type(c)"
   ]
  },
  {
   "cell_type": "code",
   "execution_count": null,
   "id": "45dec154",
   "metadata": {},
   "outputs": [],
   "source": [
    "#que. 10 take 3 variables named: interest, amount, months and print total amount to pay after calculating the interest\n",
    "\n",
    "interest=1\n",
    "amount=100000\n",
    "months=2\n",
    "SI=interest*amount*months/100\n",
    "print(SI)\n",
    "total=amount+SI\n",
    "print(total)"
   ]
  },
  {
   "cell_type": "code",
   "execution_count": null,
   "id": "731eac16",
   "metadata": {},
   "outputs": [],
   "source": [
    "#que. 11 take 2 variables and take 2 numbers as their values and print True if first number is bigger than the second one, else print False\n",
    "\n",
    "a=90\n",
    "b=80\n",
    "a>b\n"
   ]
  },
  {
   "cell_type": "code",
   "execution_count": null,
   "id": "d1d06f93",
   "metadata": {},
   "outputs": [],
   "source": [
    "#que. 12 Write a Python program to check if a number is positive, negative or zero.\n",
    "\n",
    "a=int(input('Enter a number to check??: '))\n",
    "if a<0:\n",
    "    print('The number is negative')\n",
    "elif a==0:\n",
    "    print('The number is Zero')\n",
    "else:\n",
    "    print('The number is positive')"
   ]
  },
  {
   "cell_type": "code",
   "execution_count": null,
   "id": "ba57dcbe",
   "metadata": {},
   "outputs": [],
   "source": []
  },
  {
   "cell_type": "code",
   "execution_count": null,
   "id": "f8fb60e5",
   "metadata": {},
   "outputs": [],
   "source": [
    "#que 13. Write a Python program to find whether a given number is even or odd,\n",
    "#print out an appropriate message to the user\n",
    "\n",
    "a=int(input('Enter a number to find the number is even or odd??:  '))\n",
    "if a % 2==0:\n",
    "    print('The number is even')\n",
    "else:\n",
    "    print('The number is odd')"
   ]
  },
  {
   "cell_type": "code",
   "execution_count": null,
   "id": "09f7586d",
   "metadata": {},
   "outputs": [],
   "source": [
    "#que 14 Write a Python program to test whether a passed letter is a vowel or not\n",
    "\n",
    "letter=input('Enter a alphabet: ')\n",
    "if letter=='a':\n",
    "    print('The letter is vowel.')\n",
    "elif letter=='e':\n",
    "    print('The letter is vowel.')\n",
    "elif letter=='i':\n",
    "    print('The letter is vowel.')\n",
    "elif letter=='o':\n",
    "    print('The letter is vowel.')\n",
    "elif letter=='u':\n",
    "    print('The letter is vowel.')\n",
    "elif letter=='E':\n",
    "    print('The letter is vowel.')\n",
    "elif letter=='I':\n",
    "    print('The letter is vowel.')\n",
    "elif letter=='O':\n",
    "    print('The letter is vowel.')\n",
    "elif letter=='U':\n",
    "    print('The letter is vowel.')\n",
    "elif letter=='A':\n",
    "    print('The letter is vowel.')    \n",
    "else:\n",
    "    print('The letter is consnant.')"
   ]
  },
  {
   "cell_type": "code",
   "execution_count": null,
   "id": "8a1899ab",
   "metadata": {},
   "outputs": [],
   "source": [
    "#Write a Python program to test whether a passed letter is a vowel or not\n",
    "\n",
    "letter=input('Enter a alphabet: ')\n",
    "if letter=='a' or letter=='e' or letter=='i' or letter=='o' or letter=='u':\n",
    "    print('The alphabet is vowel.')\n",
    "else:\n",
    "    print('The alphabet is consonent')\n"
   ]
  },
  {
   "cell_type": "code",
   "execution_count": null,
   "id": "5f6feaa9",
   "metadata": {},
   "outputs": [],
   "source": [
    "#que 15. Write a Python program to sum of three given integers.However, if two\n",
    "#values are equal sum will be zero.\n",
    "\n",
    "a=int(input('a= '))\n",
    "b=int(input('b= '))\n",
    "c=int(input('c= '))\n",
    "if a==b:\n",
    "    print('Sum is zero. ')\n",
    "elif a==c:\n",
    "    print('sum is zero. ')\n",
    "elif b==c:\n",
    "    print('sum is zero. ')\n",
    "else:\n",
    "    d=a+b+c\n",
    "    print(d)"
   ]
  },
  {
   "cell_type": "code",
   "execution_count": null,
   "id": "9d28369c",
   "metadata": {},
   "outputs": [],
   "source": [
    "#que 16. Write a Python program that will return true ifthe two given integervalues\n",
    "#are equal or their sum or difference is 5.\n",
    "\n",
    "a=int(input('a= ')) \n",
    "b=int(input('b= '))\n",
    "if a==b:\n",
    "    print('true ')\n",
    "elif a+b==5:\n",
    "    print('true ')\n",
    "elif a-b==5:\n",
    "    print('true ')\n",
    "else:\n",
    "    print('false ')"
   ]
  },
  {
   "cell_type": "code",
   "execution_count": null,
   "id": "f9273537",
   "metadata": {},
   "outputs": [],
   "source": [
    "#Write python program that swap two number with temp variable\n",
    "\n",
    "a=int(input('a= '))\n",
    "b=int(input('b= '))\n",
    "temp=a\n",
    "a=b\n",
    "b=temp\n",
    "print(a)\n",
    "print(b)\n",
    "\n"
   ]
  },
  {
   "cell_type": "code",
   "execution_count": null,
   "id": "6809a905",
   "metadata": {},
   "outputs": [],
   "source": [
    "# print the pattern (Kaju katri)\n",
    "for i in range(1,3):\n",
    "    print('*' * i)\n",
    "for u in range(2,0,-1):\n",
    "    print('*' * u)"
   ]
  },
  {
   "cell_type": "code",
   "execution_count": null,
   "id": "e9953803",
   "metadata": {},
   "outputs": [],
   "source": [
    "#Write a Python program to get the Fibonacci series of given range.\n",
    "num=int(input('Enter a range '))\n",
    "a=0\n",
    "b=1\n",
    "while a<=num:\n",
    "    c=a+b\n",
    "    print(a)\n",
    "    a=b\n",
    "    b=c"
   ]
  },
  {
   "cell_type": "code",
   "execution_count": null,
   "id": "9c01ad5e",
   "metadata": {},
   "outputs": [],
   "source": [
    "#Write a Python program to get the Fibonacci series of given range.\n",
    "num=int(input('Enter a range '))\n",
    "a=0\n",
    "b=1\n",
    "i=0\n",
    "for i in range(i,num):\n",
    "    c=a+b\n",
    "    print(a)\n",
    "    a=b\n",
    "    b=c\n"
   ]
  },
  {
   "cell_type": "code",
   "execution_count": null,
   "id": "b1cf251d",
   "metadata": {},
   "outputs": [],
   "source": [
    "#Write a Python program to calculate the length of a string.\n",
    "\n",
    "a= 'my name is sid'\n",
    "len(a)"
   ]
  },
  {
   "cell_type": "code",
   "execution_count": null,
   "id": "8228c4d2",
   "metadata": {},
   "outputs": [],
   "source": [
    "\n"
   ]
  },
  {
   "cell_type": "code",
   "execution_count": null,
   "id": "baa94b13",
   "metadata": {},
   "outputs": [],
   "source": [
    "num=int(input('Enter a number '))\n",
    "i=2\n",
    "print_hona_chahiye=True\n",
    "\n",
    "for i in range(1,11):\n",
    "    if num%i==0 and num<=i*10:\n",
    "        print_hona_chahiye=False\n",
    "        print(i,\"'s table\")\n",
    "if print_hona_chahiye:\n",
    "    print('invalid')"
   ]
  },
  {
   "cell_type": "code",
   "execution_count": null,
   "id": "253db5cc",
   "metadata": {},
   "outputs": [],
   "source": [
    "#PRIME NUMBER\n",
    "num=int(input())\n",
    "result=\"Prime\"\n",
    "\n",
    "for u in range(2,num//2+1):\n",
    "    if num % u == 0:\n",
    "        result=\"non prime\"\n",
    "        break\n",
    "    \n",
    "print(result)"
   ]
  },
  {
   "cell_type": "code",
   "execution_count": null,
   "id": "ee7a3293",
   "metadata": {},
   "outputs": [],
   "source": [
    "# Write a Python program to get the Factorial number of given number.\n",
    "num=int(input('Enter a number '))\n",
    "fact=1\n",
    "for i in range(1,num+1):\n",
    "    fact=fact*i\n",
    "print(\"The factorial of\",num,\"is\",fact)    \n",
    "    \n"
   ]
  },
  {
   "cell_type": "code",
   "execution_count": 3,
   "id": "c88b7b6d",
   "metadata": {},
   "outputs": [
    {
     "data": {
      "text/plain": [
       "2"
      ]
     },
     "execution_count": 3,
     "metadata": {},
     "output_type": "execute_result"
    }
   ],
   "source": [
    "# Write a Python program to count the number of characters (character frequency) in a string\n",
    "\n",
    "tyson='siddhesh'\n",
    "tyson.count('h')"
   ]
  },
  {
   "cell_type": "code",
   "execution_count": 3,
   "id": "40ffebee",
   "metadata": {},
   "outputs": [
    {
     "name": "stdout",
     "output_type": "stream",
     "text": [
      "Enter a stringtyson\n",
      "Enter a stringrossi\n",
      "tyssi\n",
      "roson\n"
     ]
    }
   ],
   "source": [
    "# Write a Python program to get a single string from two given strings,\n",
    "# separated by a space and swap the first two characters of each string\n",
    "\n",
    "a=input('Enter a string')\n",
    "b=input('Enter a string')\n",
    "if len(a)>2 and len(b)>2:\n",
    "    c=a[:2]\n",
    "    d=b[:2]\n",
    "    e=a[2:]\n",
    "    f=b[2:]\n",
    "    final=c+f\n",
    "    final1=d+e\n",
    "    print(final)\n",
    "    print(final1)\n",
    "else:\n",
    "    print('invalid string')"
   ]
  },
  {
   "cell_type": "code",
   "execution_count": 6,
   "id": "ae6f332b",
   "metadata": {},
   "outputs": [
    {
     "data": {
      "text/plain": [
       "'si'"
      ]
     },
     "execution_count": 6,
     "metadata": {},
     "output_type": "execute_result"
    }
   ],
   "source": [
    "#a='siddhesh'\n",
    "#a[:2]\n",
    "#a[2:]"
   ]
  },
  {
   "cell_type": "code",
   "execution_count": 4,
   "id": "227a6b51",
   "metadata": {},
   "outputs": [
    {
     "name": "stdout",
     "output_type": "stream",
     "text": [
      "Enter a number runn\n",
      "running\n"
     ]
    }
   ],
   "source": [
    "# Write a Python program to add 'ing' at the end of a given string (length\n",
    "#should be at least 3). If the given string already ends with 'ing' then add 'ly'\n",
    "#insteadif the string length of the given string is less than 3, leave it\n",
    "#unchanged.\n",
    "# DOUBT\n",
    "\n",
    "a=input('Enter a number ')\n",
    "if len(a)>=3:\n",
    "    if a.endswith('ing'):\n",
    "        b=a[:-3]\n",
    "        c=b+'ly'\n",
    "        print(c)\n",
    "    else:\n",
    "        add=a+'ing'\n",
    "        print(add)\n",
    "else:\n",
    "    print(a)"
   ]
  },
  {
   "cell_type": "code",
   "execution_count": null,
   "id": "95087619",
   "metadata": {},
   "outputs": [],
   "source": []
  },
  {
   "cell_type": "code",
   "execution_count": 2,
   "id": "2389f43b",
   "metadata": {},
   "outputs": [
    {
     "name": "stdout",
     "output_type": "stream",
     "text": [
      "i am good boy\n"
     ]
    }
   ],
   "source": [
    "# Write a Python program to find the first appearance of the substring 'not'\n",
    "# and 'poor' froma given string, if 'not' follows the 'poor', replace the whole\n",
    "# 'not'...'poor'substring with 'good'. Return the resulting string.\n",
    "\n",
    "a=\"i am not a bad and poor boy\"\n",
    "b=a.replace(\"not a bad and poor\",\"good\")\n",
    "print(b)"
   ]
  },
  {
   "cell_type": "code",
   "execution_count": 2,
   "id": "8ddf43a7",
   "metadata": {},
   "outputs": [
    {
     "name": "stdout",
     "output_type": "stream",
     "text": [
      "8\n",
      "5\n",
      "5\n",
      "6\n",
      "5\n"
     ]
    }
   ],
   "source": [
    "# Write a Python function that takes a list of words and returns the length\n",
    "# of the longest one\n",
    "#  DOUBT\n",
    "a=['siddhesh','mayur','menil','ritesh','ritik']\n",
    "for i in a:\n",
    "    length=len(i)\n",
    "    if length>\n",
    "    "
   ]
  },
  {
   "cell_type": "code",
   "execution_count": 11,
   "id": "2d077345",
   "metadata": {},
   "outputs": [
    {
     "name": "stdout",
     "output_type": "stream",
     "text": [
      "Enter a string to reverse dev\n",
      "sorry cant reverse the string\n"
     ]
    }
   ],
   "source": [
    "# Write a Python function to reverses a string if its length is a multiple of 4.\n",
    "\n",
    "a=input('Enter a string to reverse ')\n",
    "if len(a)%4==0:\n",
    "    b=a[::-1]\n",
    "    print(b)\n",
    "else:\n",
    "    print('sorry cant reverse the string')\n",
    "    "
   ]
  },
  {
   "cell_type": "code",
   "execution_count": 9,
   "id": "5f31d4b6",
   "metadata": {},
   "outputs": [
    {
     "name": "stdout",
     "output_type": "stream",
     "text": [
      "w3ce\n"
     ]
    }
   ],
   "source": [
    "# Write a Python program to get a string made of the first 2 and the last 2\n",
    "# chars from a given a string. Ifthe string length islessthan 2,return instead\n",
    "# of the empty string.\n",
    "# o Sample String:w3resource'\n",
    "# o Expected Result: 'w3ce'\n",
    "# o Sample String: 'w3'\n",
    "# o Expected Result: 'w3w3'\n",
    "# o Sample String: ' w'\n",
    "# o Expected Result: Empty String\n",
    "\n",
    "a=input()\n",
    "length=len(a)\n",
    "\n",
    "if length < 2:\n",
    "    print('empty string')\n",
    "else:\n",
    "    print(a[:2]+a[-2:])"
   ]
  },
  {
   "cell_type": "code",
   "execution_count": 8,
   "id": "56ed081a",
   "metadata": {},
   "outputs": [
    {
     "name": "stdout",
     "output_type": "stream",
     "text": [
      "helo\n"
     ]
    }
   ],
   "source": []
  },
  {
   "cell_type": "code",
   "execution_count": 10,
   "id": "19d3e6cc",
   "metadata": {},
   "outputs": [
    {
     "name": "stdout",
     "output_type": "stream",
     "text": [
      "Enter a stringsiddhesh\n",
      "Enter a stringmahendra\n",
      "Enter a stringsawant\n",
      "siddheshmahendrasawant\n"
     ]
    }
   ],
   "source": [
    "# Write a Python function to insert a string in the middle of a string.\n",
    "a=input('Enter a string')\n",
    "b=input('Enter a string')\n",
    "c=input('Enter a string')\n",
    "d=a+b+c\n",
    "print(d)"
   ]
  },
  {
   "cell_type": "code",
   "execution_count": 11,
   "id": "edfa44a1",
   "metadata": {},
   "outputs": [],
   "source": [
    "# How memory is managed in Python?\n",
    "#  Memory management in Python involves a private heap containing all Python objects and data structures. The management of this private heap is ensured internally by the Python memory manager."
   ]
  },
  {
   "cell_type": "code",
   "execution_count": 12,
   "id": "9bac6fb1",
   "metadata": {},
   "outputs": [],
   "source": [
    "# What is the purpose continue statement in python?\n",
    "# The continue keyword is used to end the current iteration in a for loop (or a while loop), and continues to the next iteration."
   ]
  },
  {
   "cell_type": "code",
   "execution_count": 13,
   "id": "0f54e8f4",
   "metadata": {},
   "outputs": [],
   "source": [
    "# What are negative indexes and why are they used?\n",
    "# Negative Indexing is used to in Python to begin slicing from the end of the string i.e. the last. Slicing in Python gets a sub-string from a string. The slicing range is set as parameters i.e. start, stop and step"
   ]
  },
  {
   "cell_type": "code",
   "execution_count": null,
   "id": "ae4932f4",
   "metadata": {},
   "outputs": [],
   "source": []
  }
 ],
 "metadata": {
  "kernelspec": {
   "display_name": "Python 3 (ipykernel)",
   "language": "python",
   "name": "python3"
  },
  "language_info": {
   "codemirror_mode": {
    "name": "ipython",
    "version": 3
   },
   "file_extension": ".py",
   "mimetype": "text/x-python",
   "name": "python",
   "nbconvert_exporter": "python",
   "pygments_lexer": "ipython3",
   "version": "3.9.12"
  }
 },
 "nbformat": 4,
 "nbformat_minor": 5
}

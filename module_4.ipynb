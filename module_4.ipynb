{
 "cells": [
  {
   "cell_type": "code",
   "execution_count": 1,
   "id": "ba5b04e7",
   "metadata": {},
   "outputs": [],
   "source": [
    "# What is File function in python? What is keywords to create and write file.\n",
    "\n",
    "#In Python, the file function does not exist. However, there are several built-in functions and keywords that you can use to create and write to a file. Here are the relevant components:\n",
    "\n",
    "#Opening a file: To create or open a file, you can use the built-in open() function. It takes two arguments: the file path/name and the mode in which you want to open the file (e.g., read mode, write mode, append mode, etc.). The following are the most commonly used modes:\n",
    "\n",
    "#r': Read mode (default). Opens the file for reading.\n",
    "#'w': Write mode. Opens the file for writing. Creates a new file if it doesn't exist or truncates the existing file.\n",
    "#'a': Append mode. Opens the file for appending. Creates a new file if it doesn't exist.\n",
    "#'x': Exclusive creation mode. Opens the file for writing only if it doesn't exist. Raises an error if the file exists.\n",
    "#'b': Binary mode. Opens the file in binary mode.\n",
    "#'t': Text mode (default). Opens the file in text mode.\n",
    "#Writing to a file: Once you have opened a file in write mode ('w'), append mode ('a'), or exclusive creation mode ('x'), you can use the write() method to write content to the file. This method takes a string as an argument and writes it to the file. You can call the write() method multiple times to write different strings or use the writelines() method to write a list of strings to the file.\n",
    "\n",
    "#Closing a file: After you have finished working with a file, it's important to close it to release system resources. You can use the close() method on the file object to close the file."
   ]
  },
  {
   "cell_type": "code",
   "execution_count": 28,
   "id": "4a4b49f3",
   "metadata": {},
   "outputs": [],
   "source": [
    "# Write a Python program to read an entire text file.\n",
    "f2 = open(r'C:\\Users\\Siddhesh\\Desktop\\qwerty.txt', 'w')\n",
    "#f2.read()\n",
    "f2.write('this is line one,\\n this is line two')\n",
    "f2.close()\n"
   ]
  },
  {
   "cell_type": "code",
   "execution_count": 29,
   "id": "ef30e505",
   "metadata": {},
   "outputs": [],
   "source": [
    "# Write a Python program to read an entire text file.\n",
    "f2 = open(r'C:\\Users\\Siddhesh\\Desktop\\qwerty.txt', 'r')\n",
    "f2.read()\n",
    "f2.close()\n"
   ]
  },
  {
   "cell_type": "code",
   "execution_count": 32,
   "id": "622eb3b8",
   "metadata": {},
   "outputs": [],
   "source": [
    "#Write a Python program to append text to a file and display the text\n",
    "f2 = open(r'C:\\Users\\Siddhesh\\Desktop\\qwerty.txt', 'a')\n",
    "f2.write('this is appended line,/n zxcvb,/nsdfghjk,/nhjkl,/nwertyuio')\n",
    "f2.close()\n"
   ]
  },
  {
   "cell_type": "code",
   "execution_count": 33,
   "id": "b6b679a2",
   "metadata": {},
   "outputs": [],
   "source": [
    "#Write a Python program to read first n lines of a file\n",
    "f2 = open(r'C:\\Users\\Siddhesh\\Desktop\\qwerty.txt', 'r')\n",
    "o=f2.read(2)\n",
    "f2.close()\n"
   ]
  },
  {
   "cell_type": "code",
   "execution_count": 34,
   "id": "58c964ad",
   "metadata": {},
   "outputs": [],
   "source": [
    "# Write a Python program to read a file line by line and store it into a list\n",
    "\n"
   ]
  },
  {
   "cell_type": "code",
   "execution_count": 35,
   "id": "6463f7ca",
   "metadata": {},
   "outputs": [],
   "source": [
    "# Write a Python program to read a file line by line store it into a variable\n",
    "f2 = open(r'C:\\Users\\Siddhesh\\Desktop\\qwerty.txt', 'r')\n",
    "o=f2.read(2)\n",
    "f2.close()"
   ]
  },
  {
   "cell_type": "code",
   "execution_count": 42,
   "id": "59f158b5",
   "metadata": {},
   "outputs": [
    {
     "name": "stdout",
     "output_type": "stream",
     "text": [
      "['zxcvb/nsdfghjk/nhjkl/nwertyuiothis']\n"
     ]
    }
   ],
   "source": [
    "# Write a python program to find the longest words\n",
    "def longest_word(qwerty):\n",
    "    with open(r'C:\\Users\\Siddhesh\\Desktop\\qwerty.txt', 'r') as infile:\n",
    "              words = infile.read().split()\n",
    "    max_len = len(max(words, key=len))\n",
    "    return [word for word in words if len(word) == max_len]\n",
    "\n",
    "print(longest_word('qwerty.txt'))\n"
   ]
  },
  {
   "cell_type": "code",
   "execution_count": 46,
   "id": "14ef5c99",
   "metadata": {},
   "outputs": [],
   "source": [
    "# Write a Python program to count the number of lines in a text file.\n"
   ]
  },
  {
   "cell_type": "code",
   "execution_count": 47,
   "id": "4b84b552",
   "metadata": {},
   "outputs": [],
   "source": [
    "# Write a Python program to count the frequency of words in a file.\n",
    "#Exception handling is a mechanism in Python (and many other programming languages) that allows you to handle and manage errors or exceptional situations that may occur during the execution of a program. It helps you to gracefully handle errors and prevent the program from abruptly terminating.\n",
    "\n",
    "#In Python, errors are referred to as exceptions. An exception is an event that occurs during the execution of a program and disrupts the normal flow of the program. When an exception occurs, it creates an object that represents the specific type of error that happened.\n",
    "\n",
    "#Common types of exceptions in Python include FileNotFoundError, TypeError, ValueError, ZeroDivisionError, and NameError, among others. Each exception has a specific meaning and is raised when a specific error condition occurs."
   ]
  },
  {
   "cell_type": "code",
   "execution_count": 48,
   "id": "478cfd73",
   "metadata": {},
   "outputs": [],
   "source": [
    "# How many except statements can a try-except block have? Name Some built-in exception classes:\n",
    "ValueError: Raised when a function receives an argument of the correct type but an inappropriate value.\n",
    "TypeError: Raised when an operation or function is applied to an object of an inappropriate type.\n",
    "ZeroDivisionError: Raised when division or modulo operation is performed with zero as the divisor.\n",
    "IndexError: Raised when a sequence subscript is out of range.\n",
    "KeyError: Raised when a dictionary key is not found.\n",
    "FileNotFoundError: Raised when a file or directory is requested, but it cannot be found.\n",
    "IOError: Raised when an input/output operation fails.When is the finally block executed?\n"
   ]
  },
  {
   "cell_type": "code",
   "execution_count": 49,
   "id": "eb0df80a",
   "metadata": {},
   "outputs": [],
   "source": [
    "# When will the else part of try-except-else be executed?\n",
    "#The code within the try block is executed.\n",
    "#If an exception occurs within the try block, it is caught by the corresponding except block (if the exception type matches).\n",
    "#If an exception is caught, the code within the except block is executed, and the program continues executing after the try-except statement.\n",
    "#If no exception occurs within the try block, the code within the else block is executed.\n",
    "#After executing the else block (if applicable), the program continues executing after the try-except-else statement."
   ]
  },
  {
   "cell_type": "code",
   "execution_count": 50,
   "id": "d63f9b73",
   "metadata": {},
   "outputs": [],
   "source": [
    "#Can one block of except statements handle multiple exception?\n",
    "#Yes, it is possible to handle multiple exceptions with a single except block in Python. This can be done by specifying multiple exception types within the except statement."
   ]
  },
  {
   "cell_type": "code",
   "execution_count": 51,
   "id": "31d6a819",
   "metadata": {},
   "outputs": [],
   "source": [
    "#When is the finally block executed?\n",
    "#When no exception occurs: If the try block completes execution without any exceptions being raised, the finally block is executed immediately after the try block.\n",
    "\n",
    "#When an exception is raised and caught: If an exception is raised within the try block and caught by an appropriate except block, the finally block is executed after the except block.\n",
    "\n",
    "#When an exception is raised and not caught: If an exception occurs within the try block and is not caught by any matching except block, the finally block is still executed before propagating the exception further up the call stack."
   ]
  },
  {
   "cell_type": "code",
   "execution_count": 52,
   "id": "1e45d97a",
   "metadata": {},
   "outputs": [],
   "source": [
    "#What happens when „1‟== 1 is executed\n",
    "#When the expression \"1\" == 1 is executed in Python, it performs a comparison between a string and an integer.\n",
    "#int(\"1\") == 1\n"
   ]
  },
  {
   "cell_type": "code",
   "execution_count": 53,
   "id": "7596673b",
   "metadata": {},
   "outputs": [],
   "source": [
    "#How Do You Handle Exceptions With Try/Except/Finally In Python? \n",
    "#Explain with coding snippets.\n",
    "#try:\n",
    "    # Code that may raise an exception\n",
    "    #x = 10 / 0\n",
    "#except ZeroDivisionError:\n",
    "    # Code to handle the ZeroDivisionError exception\n",
    "   # print(\"Error: Division by zero\")\n",
    "#In this example, if a ZeroDivisionError exception occurs during the execution of the try block, it will be caught by the corresponding except block, which will print the error message \"Error: Division by zero\"."
   ]
  },
  {
   "cell_type": "code",
   "execution_count": null,
   "id": "518e80ce",
   "metadata": {},
   "outputs": [],
   "source": [
    "#Write python program that user to enter only odd numbers, else will raise an exception.\n",
    "num = int(input(\"Enter a number: \"))\n",
    "mod = num % 2\n",
    "try:\n",
    "    if mod > 0:\n",
    "        print(\"This is an odd number.\")\n",
    "except:  \n",
    "        print(\"This is an even number.\")\n",
    "    \n"
   ]
  },
  {
   "cell_type": "code",
   "execution_count": null,
   "id": "7b1c3002",
   "metadata": {},
   "outputs": [],
   "source": [
    "#What are oops concepts? Is multiple inheritance supported in java\n",
    "#Object-Oriented Programming (OOP) concepts are a set of principles that help in organizing and designing software systems. These concepts revolve around the idea of modeling real-world entities as objects with properties (attributes) and behaviors (methods). \n",
    "#Regarding multiple inheritance in Java, it does not directly support multiple inheritance of classes. Java supports single inheritance, meaning a class can inherit from only one superclass. However, Java supports multiple inheritance of interfaces, where a class can implement multiple interfaces. This approach allows achieving a form of multiple inheritance by defining common behavior through interfaces and implementing them in different classes."
   ]
  },
  {
   "cell_type": "code",
   "execution_count": null,
   "id": "f29c712d",
   "metadata": {},
   "outputs": [],
   "source": [
    "#How to Define a Class in Python? What Is Self? Give An Example Of A Python Class\n",
    "class ClassName:\n",
    "    # Class attributes\n",
    "    # Constructor\n",
    "    def __init__(self, parameters):\n",
    "        # Initialize instance variables\n",
    "        # Define other methods\n",
    "The self parameter is used in class methods to refer to the instance of the class itself. It is a convention in Python to name this parameter as self, although you can use any valid variable name. It allows accessing the attributes and methods of the instance within the class.\n",
    "class Car:\n",
    "    def __init__(self, make, model, year):\n",
    "        self.make = make\n",
    "        self.model = model\n",
    "        self.year = year\n",
    "\n",
    "    def start_engine(self):\n",
    "        print(\"Engine started.\")\n",
    "\n",
    "    def stop_engine(self):\n",
    "        print(\"Engine stopped.\")"
   ]
  },
  {
   "cell_type": "code",
   "execution_count": null,
   "id": "fc1c4d93",
   "metadata": {},
   "outputs": [],
   "source": [
    "#Write a Python class named Rectangle constructed by a length and width and a method which will compute the area of a rectangle\n",
    "class Rectangle:\n",
    "    def __init__(self, length, width):\n",
    "        self.length = length\n",
    "        self.width = width\n",
    "\n",
    "    def compute_area(self):\n",
    "        return self.length * self.width"
   ]
  },
  {
   "cell_type": "code",
   "execution_count": null,
   "id": "be444198",
   "metadata": {},
   "outputs": [],
   "source": [
    "#Write a Python class named Circle constructed by a radius and two methods which will compute the area and the perimeter of a circle\n",
    "import math\n",
    "\n",
    "class Circle:\n",
    "    def __init__(self, radius):\n",
    "        self.radius = radius\n",
    "\n",
    "    def compute_area(self):\n",
    "        return math.pi * (self.radius ** 2)\n",
    "\n",
    "    def compute_perimeter(self):\n",
    "        return 2 * math.pi * self.radius\n"
   ]
  },
  {
   "cell_type": "code",
   "execution_count": null,
   "id": "89feed94",
   "metadata": {},
   "outputs": [],
   "source": [
    "#Explain Inheritance in Python with an example? What is init? Or What Is  Constructor In Python?\n",
    "#Inheritance is a fundamental concept in object-oriented programming (OOP) that allows you to create new classes (derived classes) based on existing classes (base classes). In Python, inheritance is achieved by specifying the base class(es) in the definition of a derived class.\n",
    "class Animal:\n",
    "    def __init__(self, name):\n",
    "        self.name = name\n",
    "\n",
    "    def eat(self):\n",
    "        print(f\"{self.name} is eating.\")\n",
    "\n",
    "\n",
    "class Dog(Animal):\n",
    "    def bark(self):\n",
    "        print(\"Woof! Woof!\")\n",
    "\n",
    "\n",
    "class Cat(Animal):\n",
    "    def meow(self):\n",
    "        print(\"Meow!\")\n",
    "\n",
    "\n",
    "# Creating instances of derived classes\n",
    "dog = Dog(\"Buddy\")\n",
    "cat = Cat(\"Whiskers\")\n",
    "\n",
    "# Inherited method from the base class\n",
    "dog.eat()  # Output: Buddy is eating.\n",
    "cat.eat()  # Output: Whiskers is eating.\n",
    "\n",
    "# Method specific to Dog class\n",
    "dog.bark()  # Output: Woof! Woof!\n",
    "\n",
    "# Method specific to Cat class\n",
    "cat.meow()  # Output: Meow!\n",
    "\n"
   ]
  },
  {
   "cell_type": "code",
   "execution_count": null,
   "id": "c20adc13",
   "metadata": {},
   "outputs": [],
   "source": [
    "#What is Instantiation in terms of OOP terminology\n",
    "#In object-oriented programming (OOP), instantiation refers to the process of creating an instance or object of a class. An instance is a specific occurrence of a class, representing a unique entity with its own set of attributes and behavior."
   ]
  },
  {
   "cell_type": "code",
   "execution_count": null,
   "id": "0a36891c",
   "metadata": {},
   "outputs": [],
   "source": [
    "#What is used to check whether an object o is an instance of class A?\n",
    "#To check whether an object o is an instance of class A, you can use the isinstance() function in Python. The isinstance() function takes two arguments: the object to be checked and the class or tuple of classes to check against. It returns True if the object is an instance of any of the specified classes, and False otherwise."
   ]
  }
 ],
 "metadata": {
  "kernelspec": {
   "display_name": "Python 3 (ipykernel)",
   "language": "python",
   "name": "python3"
  },
  "language_info": {
   "codemirror_mode": {
    "name": "ipython",
    "version": 3
   },
   "file_extension": ".py",
   "mimetype": "text/x-python",
   "name": "python",
   "nbconvert_exporter": "python",
   "pygments_lexer": "ipython3",
   "version": "3.9.12"
  }
 },
 "nbformat": 4,
 "nbformat_minor": 5
}
